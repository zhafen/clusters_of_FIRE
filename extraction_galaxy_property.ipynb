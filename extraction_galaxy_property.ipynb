{
 "cells": [
  {
   "cell_type": "code",
   "execution_count": null,
   "metadata": {},
   "outputs": [],
   "source": [
    "import h5py\n",
    "import numpy as np\n",
    "import os\n",
    "import scipy\n",
    "import verdict"
   ]
  },
  {
   "cell_type": "code",
   "execution_count": null,
   "metadata": {},
   "outputs": [],
   "source": [
    "import galaxy_dive.analyze_data.particle_data as particle_data\n",
    "import galaxy_dive.plot_data.generic_plotter as generic_plotter\n",
    "import galaxy_dive.utils.astro as astro_utils"
   ]
  },
  {
   "cell_type": "code",
   "execution_count": null,
   "metadata": {},
   "outputs": [],
   "source": [
    "import galaxy_dive.utils.data_operations as data_operations"
   ]
  },
  {
   "cell_type": "markdown",
   "metadata": {},
   "source": [
    "# Load Galaxy Data"
   ]
  },
  {
   "cell_type": "code",
   "execution_count": null,
   "metadata": {},
   "outputs": [],
   "source": [
    "snum = 600\n",
    "sim_data_dir = '/scratch/03057/zhafen/multiphysics/m12i_res7100_mhdcv_old/output'\n",
    "data_dir = '/scratch/03057/zhafen/linefinder_data/multiphysics/m12i_res7100_mhdcv/data'\n",
    "halo_data_dir = '/scratch/03057/zhafen/halo_files/multiphysics/m12i_res7100_mhdcv'"
   ]
  },
  {
   "cell_type": "code",
   "execution_count": null,
   "metadata": {},
   "outputs": [],
   "source": [
    "s_data = particle_data.ParticleData(\n",
    "    sdir = sim_data_dir,\n",
    "    halo_data_dir = halo_data_dir,\n",
    "    snum = snum,\n",
    "    ptype = 4,\n",
    "    main_halo_id = 0,\n",
    ")"
   ]
  },
  {
   "cell_type": "code",
   "execution_count": null,
   "metadata": {},
   "outputs": [],
   "source": [
    "s_plotter = generic_plotter.GenericPlotter( s_data )"
   ]
  },
  {
   "cell_type": "markdown",
   "metadata": {},
   "source": [
    "# Rotate"
   ]
  },
  {
   "cell_type": "code",
   "execution_count": null,
   "metadata": {},
   "outputs": [],
   "source": [
    "pos = data_operations.align_axes(\n",
    "    s_data.get_data( 'P' ).transpose(),\n",
    "    s_data.total_ang_momentum,\n",
    ")"
   ]
  },
  {
   "cell_type": "markdown",
   "metadata": {},
   "source": [
    "### Make sure it looks okay"
   ]
  },
  {
   "cell_type": "code",
   "execution_count": null,
   "metadata": {},
   "outputs": [],
   "source": [
    "%matplotlib inline\n",
    "fig = plt.figure( figsize=(6,6), facecolor='w' )\n",
    "ax = plt.gca()\n",
    "\n",
    "_ = ax.hist2d(\n",
    "    pos[:,1],\n",
    "    pos[:,2],\n",
    "    bins = [ np.linspace( -10, 10, 128 ), ] * 2,\n",
    "    norm = matplotlib.colors.LogNorm(),\n",
    ")\n",
    "\n",
    "ax.set_aspect( 'equal' )\n"
   ]
  },
  {
   "cell_type": "code",
   "execution_count": null,
   "metadata": {},
   "outputs": [],
   "source": [
    "inside_galaxy = s_data.get_data( 'R' ) < s_data.averaging_frac * s_data.length_scale"
   ]
  },
  {
   "cell_type": "code",
   "execution_count": null,
   "metadata": {},
   "outputs": [],
   "source": [
    "fig = plt.figure( figsize=(10,6), facecolor='w' )\n",
    "ax = plt.gca()\n",
    "\n",
    "hist, bins, _ = ax.hist(\n",
    "    pos[:,2][inside_galaxy],\n",
    "    bins = 2048,\n",
    "    weights = s_data.get_data( 'M' )[inside_galaxy],\n",
    ")"
   ]
  },
  {
   "cell_type": "code",
   "execution_count": null,
   "metadata": {},
   "outputs": [],
   "source": [
    "centers = bins[:-1] + 0.5 * ( bins[1] - bins[0] )\n",
    "positive_centers = centers[centers>=0]\n",
    "positive_hist = hist[centers>=0]"
   ]
  },
  {
   "cell_type": "code",
   "execution_count": null,
   "metadata": {},
   "outputs": [],
   "source": [
    "interp_fn = scipy.interpolate.interp1d( positive_hist, positive_centers )"
   ]
  },
  {
   "cell_type": "code",
   "execution_count": null,
   "metadata": {},
   "outputs": [],
   "source": [
    "scale_height = interp_fn( hist.max() / np.e )"
   ]
  },
  {
   "cell_type": "markdown",
   "metadata": {},
   "source": [
    "# Bursty Phase Lookback Time"
   ]
  },
  {
   "cell_type": "code",
   "execution_count": null,
   "metadata": {},
   "outputs": [],
   "source": [
    "from abg_python.smooth_utils import find_first_window,boxcar_average"
   ]
  },
  {
   "cell_type": "code",
   "execution_count": null,
   "metadata": {},
   "outputs": [],
   "source": [
    "def findBurstyRegime(\n",
    "    time_edges:np.ndarray,\n",
    "    SFRs:np.ndarray,\n",
    "    thresh:float=0.3, ## dex of scatter\n",
    "    window_size:float=0.3, ## size of window to compute scatter within\n",
    "    mode:str=None,\n",
    "    thresh_window:float=1.5): \n",
    "    \"\"\" Finds the first window where the \"bursty condition\" is true. The \"bursty condition\"\n",
    "        can be defined 3 ways (using the mode parameter). By default, finds when the scatter in \n",
    "        log SFR is < the ~scatter in the SFMS (0.3 dex). Scatters larger than this one would not \n",
    "        call \"constant\" w.r.t. the SFMS and scatters smaller than this would occupy a spot on the\n",
    "        SFMS (not directly on mind you, just like, it wouldn't jump around).\n",
    "        1. Sigma_300(log(<SFR>_1)) (default,\n",
    "            thresh=0.3 consistent with defn in\n",
    "            https://ui.adsabs.harvard.edu/abs/2022arXiv220304321G/abstract\n",
    "            https://ui.adsabs.harvard.edu/abs/2021MNRAS.501.4812F/abstract\n",
    "            https://ui.adsabs.harvard.edu/abs/2021ApJ...911...88S/abstract\n",
    "            https://ui.adsabs.harvard.edu/abs/2020MNRAS.498.3664G/abstract )\n",
    "        2. Sigma_300(<SFR>_10)/<SFR>_10 < thresh (mode == 'anna', \n",
    "            thresh=0.5 consistent with defn in\n",
    "            https://ui.adsabs.harvard.edu/abs/2021MNRAS.505..889Y/abstract )\n",
    "        3.  peak(SFR/median) - trough(SFR/median) (mode == 'peaktrough',\n",
    "            used to check \"visual intuition\" but works like actual garbage.\n",
    "            Do not use this. Seriously.)\n",
    "    Parameters\n",
    "    ----------\n",
    "    time_edges : np.ndarray\n",
    "        SFR histogram edges in Gyr, ideally spaced by 1 Myr (we boxcar average anyway)\n",
    "    SFRs : np.ndarray\n",
    "        SFR histogram in msun/year (or whatever units, i'm a docstring not a cop)\n",
    "    thresh : float, optional\n",
    "        threshold value that the relative scatter should be below, by default 0.3\n",
    "    window_size: float, optional\n",
    "        the window that the relative scatter in log SFR should be computed in, \n",
    "        by default 0.3 (300 Myr)\n",
    "    thresh_window : float, optional\n",
    "        width of window that the relative scatter must remain below threshold for \n",
    "        (to avoid little excursions below counting as the \"end\" of bursty SFR.\n",
    "        I see you m12f!!), by default 1.5\n",
    "    Returns\n",
    "    -------\n",
    "    l_window \n",
    "        the time corresponding to the left edge of the thresh_window\n",
    "        that satisfies the threshold condition.\n",
    "    rel_scatters\n",
    "        the relative scatters with the same shape as SFRs\n",
    "    \"\"\"\n",
    "                \n",
    "    adjusted_sfrs = (SFRs + SFRs[SFRs>0].min()/10)\n",
    "\n",
    "    if mode == 'peaktrough':\n",
    "\n",
    "        rel_scatters = np.zeros(adjusted_sfrs.size)\n",
    "        per_ls = np.zeros(adjusted_sfrs.size)\n",
    "        per_rs = np.zeros(adjusted_sfrs.size)\n",
    "        medians = np.zeros(adjusted_sfrs.size)\n",
    "        \n",
    "        this_window_size = 0.05 #window_size\n",
    "        window_size_n = int(this_window_size/SFH_dt/2)\n",
    "\n",
    "        for i in range(adjusted_sfrs.size):\n",
    "            window = adjusted_sfrs[\n",
    "                max(0,i-window_size_n):\n",
    "                min(adjusted_sfrs.size-1,i+window_size_n)]\n",
    "\n",
    "            median = np.nanmedian(window)\n",
    "            if np.isnan(median): import pdb; pdb.set_trace()\n",
    "\n",
    "            per_l,per_r = np.quantile(\n",
    "                window/median,\n",
    "                [0.1,0.9])\n",
    "\n",
    "            rel_scatters[i] = (per_r - per_l)\n",
    "            #rel_scatters[i] = (per_r / per_l)\n",
    "            per_ls[i] = per_l\n",
    "            per_rs[i] = per_r\n",
    "            medians[i] = median\n",
    "        xs,rel_scatters = boxcar_average(\n",
    "            time_edges,\n",
    "            rel_scatters,\n",
    "            0.3,\n",
    "            assign='center')\n",
    "\n",
    "        ## plot these to show peak-trough band\n",
    "        #SFH_scatter_per_ls = per_ls #<--- bottom of band\n",
    "        #SFH_scatter_per_rs = per_rs #<--- top of band\n",
    "        #SFH_scatter_medians = medians #<--- middle of band\n",
    "        #SFH_rel_scatters = rel_scatters #<--- scatters you want to stay w/i band\n",
    "\n",
    "    elif mode == 'anna':\n",
    "        ## calculate scatter using 10 Myr running average in \n",
    "        ##  window_size sized window\n",
    "        xs,adjusted_sfrs = boxcar_average(\n",
    "            time_edges,\n",
    "            adjusted_sfrs,\n",
    "            0.01)\n",
    "\n",
    "        xs,boxcar_ys_300 = boxcar_average(\n",
    "            time_edges,\n",
    "            adjusted_sfrs,\n",
    "            0.5,#window_size,\n",
    "            assign='center')\n",
    "\n",
    "        xs,boxcar_ys2_300 = boxcar_average(\n",
    "            time_edges,\n",
    "            adjusted_sfrs**2,\n",
    "            0.5,#window_size,\n",
    "            assign='center')\n",
    "\n",
    "        ## <std>/<SFR>\n",
    "        rel_scatters = np.sqrt(boxcar_ys2_300 - boxcar_ys_300**2)/boxcar_ys_300\n",
    "    else:\n",
    "        xs,boxcar_ys_300 = boxcar_average(\n",
    "            time_edges,\n",
    "            np.log10(adjusted_sfrs),\n",
    "            window_size,\n",
    "            assign='center')\n",
    "\n",
    "        xs,boxcar_ys2_300 = boxcar_average(\n",
    "            time_edges,\n",
    "            np.log10(adjusted_sfrs)**2,\n",
    "            window_size,\n",
    "            assign='center')\n",
    "\n",
    "        rel_scatters = np.sqrt(boxcar_ys2_300 - boxcar_ys_300**2)\n",
    "\n",
    "    ## find the first 300 Myr window that is consistently below the threshold\n",
    "    #print(thresh, thresh_window,rel_scatters)\n",
    "    l_window, r_window = find_first_window(\n",
    "        time_edges,\n",
    "        rel_scatters,\n",
    "        lambda x,y: y < thresh,\n",
    "        thresh_window,\n",
    "        last=True)\n",
    "\n",
    "    return l_window, rel_scatters"
   ]
  },
  {
   "cell_type": "code",
   "execution_count": null,
   "metadata": {},
   "outputs": [],
   "source": [
    "formation_redshift = 1. / s_data.get_data( 'Age' ) - 1."
   ]
  },
  {
   "cell_type": "code",
   "execution_count": null,
   "metadata": {},
   "outputs": [],
   "source": [
    "formation_time = astro_utils.age_of_universe(\n",
    "    formation_redshift,\n",
    "    h = s_data.data_attrs['hubble'],\n",
    "    omega_matter = s_data.data_attrs['omega_matter']\n",
    ")"
   ]
  },
  {
   "cell_type": "code",
   "execution_count": null,
   "metadata": {},
   "outputs": [],
   "source": [
    "age_at_z0 = astro_utils.age_of_universe(\n",
    "    0.,\n",
    "    h = s_data.data_attrs['hubble'],\n",
    "    omega_matter = s_data.data_attrs['omega_matter']\n",
    ")"
   ]
  },
  {
   "cell_type": "code",
   "execution_count": null,
   "metadata": {},
   "outputs": [],
   "source": [
    "main_galaxy_formation_time = formation_time[inside_galaxy]\n",
    "main_galaxy_ages = age_at_z0 - main_galaxy_formation_time"
   ]
  },
  {
   "cell_type": "code",
   "execution_count": null,
   "metadata": {},
   "outputs": [],
   "source": [
    "fig = plt.figure()\n",
    "ax = plt.gca()\n",
    "\n",
    "SFR, time_edges, img = ax.hist(\n",
    "    main_galaxy_formation_time,\n",
    "    bins = 256,\n",
    ")\n",
    "\n",
    "ax.set_yscale( 'log' )"
   ]
  },
  {
   "cell_type": "code",
   "execution_count": null,
   "metadata": {},
   "outputs": [],
   "source": [
    "t_lookback_bursty, rel_scatters = findBurstyRegime(\n",
    "    time_edges,\n",
    "    SFR,\n",
    ")\n",
    "t_bursty = age_at_z0 - t_lookback_bursty\n",
    "ax.axvline( t_bursty, color='k' )\n",
    "\n",
    "ax.set_ylim( 1e3, 3e5 )\n",
    "\n",
    "fig"
   ]
  },
  {
   "cell_type": "code",
   "execution_count": null,
   "metadata": {},
   "outputs": [],
   "source": [
    "t_bursty, t_lookback_bursty"
   ]
  },
  {
   "cell_type": "code",
   "execution_count": null,
   "metadata": {},
   "outputs": [],
   "source": [
    "fig = plt.figure()\n",
    "ax = plt.gca()\n",
    "\n",
    "ax.plot(\n",
    "    time_edges[:-1],\n",
    "    rel_scatters\n",
    ")\n",
    "\n",
    "ax.axvline(\n",
    "    t_bursty,\n",
    "    color = 'k',\n",
    ")\n",
    "ax.axhline(\n",
    "    0.3,\n",
    "    color = 'k',\n",
    ")"
   ]
  },
  {
   "cell_type": "markdown",
   "metadata": {},
   "source": [
    "# Save"
   ]
  },
  {
   "cell_type": "code",
   "execution_count": null,
   "metadata": {},
   "outputs": [],
   "source": [
    "data = verdict.Dict({\n",
    "    'scale_height (kpc)': scale_height,\n",
    "    'galaxy_angular_momentum (Msun*kpc*km/s)': s_data.total_ang_momentum\n",
    "})"
   ]
  },
  {
   "cell_type": "code",
   "execution_count": null,
   "metadata": {},
   "outputs": [],
   "source": [
    "data.to_hdf5( './data/galaxy_stats.h5' )"
   ]
  }
 ],
 "metadata": {
  "kernelspec": {
   "display_name": "Python 3",
   "language": "python",
   "name": "python3"
  },
  "language_info": {
   "codemirror_mode": {
    "name": "ipython",
    "version": 3
   },
   "file_extension": ".py",
   "mimetype": "text/x-python",
   "name": "python",
   "nbconvert_exporter": "python",
   "pygments_lexer": "ipython3",
   "version": "3.9.1"
  }
 },
 "nbformat": 4,
 "nbformat_minor": 4
}
