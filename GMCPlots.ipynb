{
 "cells": [
  {
   "cell_type": "code",
   "execution_count": 1,
   "metadata": {},
   "outputs": [
    {
     "name": "stderr",
     "output_type": "stream",
     "text": [
      "/home/mike/.conda/envs/idp/lib/python3.6/site-packages/IPython/core/pylabtools.py:269: MatplotlibDeprecationWarning: \n",
      "The text.latex.unicode rcparam was deprecated in Matplotlib 3.0 and will be removed in 3.2.\n",
      "  import matplotlib\n",
      "/home/mike/.conda/envs/idp/lib/python3.6/site-packages/h5py/__init__.py:34: FutureWarning: Conversion of the second argument of issubdtype from `float` to `np.floating` is deprecated. In future, it will be treated as `np.float64 == np.dtype(float).type`.\n",
      "  from ._conv import register_converters as _register_converters\n"
     ]
    },
    {
     "name": "stdout",
     "output_type": "stream",
     "text": [
      "Using matplotlib backend: TkAgg\n",
      "Populating the interactive namespace from numpy and matplotlib\n"
     ]
    }
   ],
   "source": [
    "%pylab\n",
    "from sys import argv\n",
    "import h5py\n",
    "import numpy as np\n",
    "import matplotlib.pyplot as plt\n",
    "from astropy.io import fits\n",
    "import os.path as osp\n",
    "\n",
    "# m83_data = np.loadtxt(\"m83_clusters.dat\")\n",
    "# m83_masses = 10**m83_data[:,8]\n",
    "# m83_masses_max = 10**m83_data[:,11]\n",
    "# m83_masses_min = 10**m83_data[:,14]\n",
    "# m83_RGC = 10**m83_data[:,5]\n",
    "# m83_class = m83_data[:,6]\n",
    "# m83_age = 10**m83_data[:,7]\n",
    "# cut = (m83_masses_max-m83_masses_min < m83_masses) * (m83_class == 1) * (m83_age > 1e7) * (m83_RGC >1e3)\n",
    "# m83_masses = m83_masses[cut]\n",
    "\n",
    "m51_data = np.loadtxt(\"m51_legus.tab\")\n",
    "m51_mass = m51_data[:,20]\n",
    "m51_class = m51_data[:,-2]\n",
    "m51_mass = m51_mass[m51_class == 1]\n",
    "#plt.loglog(np.sort(m51_mass), np.arange(len(m51_mass))[::-1]+1)\n",
    "#plt.show()\n",
    "\n",
    "m31_data = np.loadtxt(\"m31.dat\")\n",
    "m31_age = 10**m31_data[:,0]\n",
    "m31_m = 10**m31_data[:,1]\n",
    "m31_m = m31_m[(m31_age > 1e7)*(m31_age < 2e8)]"
   ]
  },
  {
   "cell_type": "code",
   "execution_count": 3,
   "metadata": {
    "collapsed": true
   },
   "outputs": [],
   "source": [
    "data = np.loadtxt(\"ClusterPopulation_1_reduced.dat\")\n",
    "a = np.loadtxt(\"snapshot_times.txt\")[1:,1]\n",
    "t = np.loadtxt(\"snapshot_times.txt\")[1:,3]\n",
    "n = np.loadtxt(\"snapshot_times.txt\")[1:,0]\n",
    "dt = np.loadtxt(\"snapshot_times.txt\")[1:,-1]\n",
    "sfrdata = np.loadtxt(\"m12i_res7100_mhdcv_sfr.dat\")[1:-10]\n",
    "sfrdict=  dict(zip(sfrdata[:,0], sfrdata[:,1]))\n",
    "mdict = dict(zip(sfrdata[:,0], sfrdata[:,3]))\n",
    "F = h5py.File(\"ClusterPopulation_1.hdf5\",'r')\n",
    "#redshifts = 1/a - 1\n",
    "redshifts = np.loadtxt(\"snapshot_times.txt\")[:,2]\n",
    "times = np.loadtxt(\"snapshot_times.txt\")[:,3]"
   ]
  },
  {
   "cell_type": "code",
   "execution_count": 3,
   "metadata": {},
   "outputs": [
    {
     "name": "stderr",
     "output_type": "stream",
     "text": [
      "/home/mike/.conda/envs/idp/lib/python3.6/site-packages/h5py/__init__.py:34: FutureWarning: Conversion of the second argument of issubdtype from `float` to `np.floating` is deprecated. In future, it will be treated as `np.float64 == np.dtype(float).type`.\n",
      "  from ._conv import register_converters as _register_converters\n"
     ]
    }
   ],
   "source": [
    "\n",
    "\n",
    "\n",
    "fig, axes = plt.subplots(1,3, figsize=(8,4))\n",
    "for f in \"ClusterPopulation_1.hdf5\",:\n",
    "    F = h5py.File(f,'r')\n",
    "    filt = np.array(F[\"Mass\"]) > 1e4\n",
    "    Z = np.log10(F[\"Metallicity\"])[filt] - np.log10(0.02)\n",
    "    M = np.array(F[\"Mass\"])[filt]\n",
    "    tf = 13.79874688 - np.array(F[\"FormationTime\"])[filt]\n",
    "    axes[0].scatter(tf, Z,s=.1,color='black', marker='o',alpha=0.3)\n",
    "    axes[0].set_xlabel(\"Age (Gyr)\")\n",
    "    axes[0].set_ylabel(\"Metallicity\")\n",
    "    axes[0].set_ylim(-4,1)\n",
    "    axes[2].scatter(tf, M,s=.1,color='black', marker='o',alpha=0.3)\n",
    "    axes[2].set_xlabel(\"Age (Gyr)\")\n",
    "    axes[2].set_ylabel(\"Mass ($M_\\odot$)\")\n",
    "    axes[2].set_ylim(1e4,1e7)\n",
    "    axes[2].set_yscale('log')\n",
    "    axes[1].scatter(M, Z, s=.1, color='black', marker='o',alpha=0.3)\n",
    "    axes[1].set_xlabel(\"Mass ($M_\\odot$)\")\n",
    "    axes[1].set_xscale('log')\n",
    "    axes[1].set_ylabel(\"Metallicity\")\n",
    "    axes[1].set_ylim(-4,1)\n",
    "#    plt.xscale('log')\n",
    "    \n",
    "plt.tight_layout()\n",
    "plt.savefig(\"Mass_Age_Metallicity.png\", bbox_inches='tight', dpi=400)\n"
   ]
  },
  {
   "cell_type": "code",
   "execution_count": null,
   "metadata": {
    "collapsed": true
   },
   "outputs": [],
   "source": []
  },
  {
   "cell_type": "code",
   "execution_count": 156,
   "metadata": {},
   "outputs": [
    {
     "name": "stdout",
     "output_type": "stream",
     "text": [
      "0\n"
     ]
    },
    {
     "name": "stderr",
     "output_type": "stream",
     "text": [
      "/home/mike/.conda/envs/idp/lib/python3.6/site-packages/ipykernel_launcher.py:26: RuntimeWarning: invalid value encountered in true_divide\n"
     ]
    },
    {
     "name": "stdout",
     "output_type": "stream",
     "text": [
      "10000.0\n",
      "100000.0\n",
      "1000000.0\n"
     ]
    }
   ],
   "source": [
    "from palettable.colorbrewer.qualitative import Set2_4\n",
    "agebins = t.max() * np.linspace(0.0,1,200)\n",
    "\n",
    "F = h5py.File(\"ClusterPopulation_1.hdf5\",'r')\n",
    "tf = np.array(F[\"FormationTime\"])\n",
    "dt_tf = np.interp(tf, t, dt)\n",
    "\n",
    "plt.clf()\n",
    "fig = plt.figure(figsize=(4,4))\n",
    "ax = fig.add_subplot(111)\n",
    "ax2 = ax.twiny()\n",
    "ax.set_prop_cycle('color', Set2_4.mpl_colors)\n",
    "\n",
    "for masscut in 0, 1e4, 1e5, 1e6:\n",
    "    print(masscut)\n",
    "    filt = np.array(F[\"Mass\"]) > masscut\n",
    "    #agebins = np.concatenate([[0],t])\n",
    "    Z = np.log10(F[\"Metallicity\"])[filt] - np.log10(0.02)\n",
    "    M = np.array(F[\"Mass\"])[filt]\n",
    "    tf = np.array(F[\"FormationTime\"])[filt]\n",
    "    \n",
    "    mdot_cluster = np.histogram(tf, agebins, weights=M)[0] / np.diff(1e9*agebins)\n",
    "\n",
    "    sfr_snap = sfrdata[:,3] / (dt*1e6)\n",
    "    mdot_star = np.histogram(t, agebins, weights=sfrdata[:,3])[0] / np.diff(agebins) / 1e9\n",
    "    CFE = mdot_cluster / mdot_star\n",
    "    \n",
    "    if masscut == 1e6:\n",
    "        ax.fill_between(agebins[1:], CFE, np.zeros_like(CFE), alpha=1, label=(\"All bound clusters\" if masscut==0 else r\"$M_\\mathrm{cl}>10^{%d}M_\\odot$\"%int(np.log10(masscut)+0.5)), color='red')\n",
    "        ax.plot(agebins[1:], CFE,color='red',lw=0.3)\n",
    "    else:\n",
    "        ax.fill_between(agebins[1:], CFE, np.zeros_like(CFE), alpha=1, label=(\"All bound clusters\" if masscut==0 else r\"$M_\\mathrm{cl}>10^{%d}M_\\odot$\"%int(np.log10(masscut)+0.5)))\n",
    "        ax.plot(agebins[1:], CFE,color='black',lw=0.3)\n",
    "ax.set_ylim(1e-4,3)\n",
    "ax.legend(labelspacing=0)\n",
    "ax.set_yscale('log')\n",
    "ax.set_xlabel(\"Cosmic Time [Gyr]\")\n",
    "ax.set_ylabel(\"Cluster Formation Efficiency $\\Gamma$\")\n",
    "ax.set_xlim(0,13.8)\n",
    "ax2.set_xlim(ax.get_xlim())\n",
    "ax2.set_xticks(np.sort(np.interp(np.arange(0,6), np.sort(redshifts), times[redshifts.argsort()])))\n",
    "ax2.set_xticklabels([str(a) for a in np.arange(0,6)[::-1]])\n",
    "ax2.set_xlabel(r\"$z$\")\n",
    "ax2.minorticks_off()\n",
    "ax2.set_xlim(0,13.8)\n",
    "plt.savefig(\"Time_vs_Gamma.pdf\", bbox_inches='tight')"
   ]
  },
  {
   "cell_type": "code",
   "execution_count": 155,
   "metadata": {},
   "outputs": [
    {
     "data": {
      "text/plain": [
       "1.2089659"
      ]
     },
     "execution_count": 155,
     "metadata": {},
     "output_type": "execute_result"
    }
   ],
   "source": [
    "np.interp(5, np.sort(redshifts), times[redshifts.argsort()])"
   ]
  },
  {
   "cell_type": "code",
   "execution_count": 2,
   "metadata": {},
   "outputs": [
    {
     "ename": "NameError",
     "evalue": "name 't' is not defined",
     "output_type": "error",
     "traceback": [
      "\u001b[0;31m---------------------------------------------------------------------------\u001b[0m",
      "\u001b[0;31mNameError\u001b[0m                                 Traceback (most recent call last)",
      "\u001b[0;32m<ipython-input-2-4d134594a872>\u001b[0m in \u001b[0;36m<module>\u001b[0;34m()\u001b[0m\n\u001b[1;32m      2\u001b[0m \u001b[0;32mfrom\u001b[0m \u001b[0mscipy\u001b[0m\u001b[0;34m.\u001b[0m\u001b[0mstats\u001b[0m \u001b[0;32mimport\u001b[0m \u001b[0mbinned_statistic\u001b[0m\u001b[0;34m\u001b[0m\u001b[0m\n\u001b[1;32m      3\u001b[0m \u001b[0;34m\u001b[0m\u001b[0m\n\u001b[0;32m----> 4\u001b[0;31m \u001b[0magebins\u001b[0m \u001b[0;34m=\u001b[0m \u001b[0mt\u001b[0m\u001b[0;34m.\u001b[0m\u001b[0mmax\u001b[0m\u001b[0;34m(\u001b[0m\u001b[0;34m)\u001b[0m \u001b[0;34m*\u001b[0m \u001b[0mnp\u001b[0m\u001b[0;34m.\u001b[0m\u001b[0mlinspace\u001b[0m\u001b[0;34m(\u001b[0m\u001b[0;36m0.0\u001b[0m\u001b[0;34m,\u001b[0m\u001b[0;36m1\u001b[0m\u001b[0;34m,\u001b[0m\u001b[0;36m600\u001b[0m\u001b[0;34m)\u001b[0m\u001b[0;34m\u001b[0m\u001b[0m\n\u001b[0m\u001b[1;32m      5\u001b[0m \u001b[0;34m\u001b[0m\u001b[0m\n\u001b[1;32m      6\u001b[0m \u001b[0mF\u001b[0m \u001b[0;34m=\u001b[0m \u001b[0mh5py\u001b[0m\u001b[0;34m.\u001b[0m\u001b[0mFile\u001b[0m\u001b[0;34m(\u001b[0m\u001b[0;34m\"ClusterPopulation_1.hdf5\"\u001b[0m\u001b[0;34m,\u001b[0m\u001b[0;34m'r'\u001b[0m\u001b[0;34m)\u001b[0m\u001b[0;34m\u001b[0m\u001b[0m\n",
      "\u001b[0;31mNameError\u001b[0m: name 't' is not defined"
     ]
    }
   ],
   "source": [
    "from palettable.colorbrewer.qualitative import Set2_4\n",
    "from scipy.stats import binned_statistic\n",
    "\n",
    "agebins = t.max() * np.linspace(0.0,1,600)\n",
    "\n",
    "F = h5py.File(\"ClusterPopulation_1.hdf5\",'r')\n",
    "tf = np.array(F[\"FormationTime\"])\n",
    "dt_tf = np.interp(tf, t, dt)\n",
    "\n",
    "plt.clf()\n",
    "fig = plt.figure(figsize=(4,4))\n",
    "ax = fig.add_subplot(111)\n",
    "ax2 = ax.twiny()\n",
    "#ax.set_prop_cycle('color', Set2_4.mpl_colors)\n",
    "\n",
    "#for masscut in 0, 1e4, 1e5, 1e6:\n",
    "#    print(masscut)\n",
    "filt = np.array(F[\"Mass\"]) > 0\n",
    "    #agebins = np.concatenate([[0],t])\n",
    "Z = np.log10(F[\"Metallicity\"])[filt] - np.log10(0.02)\n",
    "M = np.array(F[\"Mass\"])[filt]\n",
    "tf = np.array(F[\"FormationTime\"])[filt]\n",
    "\n",
    "massmed = lambda x: np.interp(x.sum()/2, np.sort(x).cumsum(), np.sort(x))\n",
    "\n",
    "mmax_cluster = binned_statistic(tf, M, statistic='max', bins=agebins)[0]\n",
    "#mmed_cluster = binned_statistic(tf, M, statistic=massmed, bins=agebins)[0]\n",
    "  \n",
    "ax.plot(agebins[1:], mmax_cluster, color='black')\n",
    "#ax.plot(agebins[1:], mmed_cluster)\n",
    "#ax.set_ylim(1e-4,3)\n",
    "ax.set_xlim(0,13.8)\n",
    "\n",
    "ax.legend(labelspacing=0)\n",
    "ax.set_yscale('log')\n",
    "ax.set_xlabel(\"Cosmic Time [Gyr]\")\n",
    "ax.set_ylabel(r\"Maximum Cluster Mass [$M_\\odot$]\")\n",
    "ax2.set_xlim(ax.get_xlim())\n",
    "ax2.set_xticks(np.sort(np.interp(np.arange(0,6), np.sort(redshifts), times[redshifts.argsort()])))\n",
    "ax2.set_xticklabels([str(a) for a in np.arange(0,6)[::-1]])\n",
    "ax2.set_xlabel(r\"$z$\")\n",
    "ax2.set_xlim(0,13.8)\n",
    "ax2.minorticks_off()\n",
    "plt.savefig(\"Time_vs_Mcluster.pdf\", bbox_inches='tight')"
   ]
  },
  {
   "cell_type": "code",
   "execution_count": 5,
   "metadata": {
    "collapsed": true
   },
   "outputs": [],
   "source": [
    "from palettable.colorbrewer.qualitative import Set2_4\n",
    "from scipy.stats import binned_statistic\n",
    "\n",
    "agebins = t.max() * np.linspace(0.0,1,int(t.max()/0.1+1))\n",
    "\n",
    "F = h5py.File(\"ClusterPopulation_1.hdf5\",'r')\n",
    "tf = np.array(F[\"FormationTime\"])\n",
    "dt_tf = np.interp(tf, t, dt)\n",
    "\n",
    "plt.clf()\n",
    "fig = plt.figure(figsize=(4,4))\n",
    "ax = fig.add_subplot(111)\n",
    "\n",
    "tf = np.array(F[\"FormationTime\"])\n",
    "M = np.array(F[\"Mass\"])\n",
    "for i in range(len(agebins)-1):    \n",
    "    filt = (tf > agebins[i])*(tf<=agebins[i+1])*(M>1e3)\n",
    "    mbin = M[filt]\n",
    "    ax.plot(np.sort(mbin),(np.arange(len(mbin))[::-1]+1), color='black',alpha=0.05, label=(\"$100\\mathrm{Myr}$ age bins\" if i==0 else None))\n",
    "    #agebins = np.concatenate([[0],t])\n",
    "#Z = np.log10(F[\"Metallicity\"])[filt] - np.log10(0.02)\n",
    "ax.plot(np.sort(M[M>1e3]), (np.arange(len(M[M>1e3]))[::-1]+1),label=\"Total\")\n",
    "\n",
    "# plot m83 CDF from Adamo 2015\n",
    "m83_masses = 10**np.loadtxt(\"m83_mass_cdf_adamo2015.csv\",delimiter=',')[:,0]\n",
    "m83_cdf = np.loadtxt(\"m83_mass_cdf_adamo2015.csv\",delimiter=',')[:,1]\n",
    "m83_cdf /= m83_cdf.min()\n",
    "ax.plot(np.sort(m83_masses), m83_cdf[m83_masses.argsort()],color='red', label=\"M83 (Adamo+15)\")\n",
    "\n",
    "#  M51 CDF from Messa 2018\n",
    "ax.plot(np.sort(m51_mass), np.arange(len(m51_mass))[::-1]+1, label=\"M51 (Messa+18)\")\n",
    "\n",
    "# M31 CDF from Johnson 2016\n",
    "ax.plot(np.sort(m31_m), np.arange(len(m31_m))[::-1]+1, label=\"M31 (Johnson+18)\")\n",
    "\n",
    "ax.text(1.1e6,2000,\"$\\propto M_\\mathrm{cl}^{-2}$\", rotation=-60)\n",
    "ax.text(6e5,350,\"$\\propto M_\\mathrm{cl}^{-1}$\", rotation=-37)\n",
    "ax.set_xlim(1e3,1e7)\n",
    "ax.set_ylim(1,1e5)\n",
    "ax.plot([5e5,5e6],[3000,300],color='black',ls='dotted')\n",
    "ax.plot([5e5,5e6],[30000,300],color='black',ls='dotted')\n",
    "ax.legend(labelspacing=0,frameon=True,loc=2)\n",
    "ax.set_ylabel(r\"$N\\left(>M_\\mathrm{cl}\\right)$\")\n",
    "ax.set_xlabel(r\"$M_\\mathrm{cl}$ [$M_\\odot$]\")\n",
    "ax.set_yscale('log')\n",
    "ax.set_xscale('log')\n",
    "#ax.set_xlabel(\"Cosmic Time [Gyr]\")\n",
    "#ax.set_ylabel(r\"Maximum Cluster Mass [$M_\\odot$]\")\n",
    "plt.savefig(\"Time_vs_MassFunction.pdf\", bbox_inches='tight')"
   ]
  },
  {
   "cell_type": "code",
   "execution_count": null,
   "metadata": {
    "collapsed": true
   },
   "outputs": [],
   "source": []
  },
  {
   "cell_type": "code",
   "execution_count": 35,
   "metadata": {},
   "outputs": [
    {
     "name": "stderr",
     "output_type": "stream",
     "text": [
      "/home/mike/.conda/envs/idp/lib/python3.6/tkinter/__init__.py:745: UserWarning: Creating legend with loc=\"best\" can be slow with large amounts of data.\n",
      "  func(*args)\n"
     ]
    }
   ],
   "source": [
    "plt.loglog(np.sort(m83_masses), m83_cdf[m83_masses.argsort()])\n",
    "plt.show()"
   ]
  },
  {
   "cell_type": "code",
   "execution_count": null,
   "metadata": {
    "collapsed": true
   },
   "outputs": [],
   "source": [
    "Myoung = M[tf>13.7]\n",
    "plt.plot(M[M.argsort()], M[M.argsort()].cumsum())\n",
    "plt.xscale('log')"
   ]
  },
  {
   "cell_type": "code",
   "execution_count": null,
   "metadata": {
    "collapsed": true
   },
   "outputs": [],
   "source": [
    "corr =np.average(1/dt[1:]) * dt"
   ]
  },
  {
   "cell_type": "code",
   "execution_count": null,
   "metadata": {
    "collapsed": true
   },
   "outputs": [],
   "source": [
    "M.min()"
   ]
  },
  {
   "cell_type": "code",
   "execution_count": null,
   "metadata": {
    "collapsed": true
   },
   "outputs": [],
   "source": [
    "len(M)/1e6"
   ]
  },
  {
   "cell_type": "code",
   "execution_count": null,
   "metadata": {
    "collapsed": true
   },
   "outputs": [],
   "source": [
    "t"
   ]
  },
  {
   "cell_type": "code",
   "execution_count": null,
   "metadata": {
    "collapsed": true
   },
   "outputs": [],
   "source": []
  }
 ],
 "metadata": {
  "kernelspec": {
   "display_name": "Python 3",
   "language": "python",
   "name": "python3"
  },
  "language_info": {
   "codemirror_mode": {
    "name": "ipython",
    "version": 3
   },
   "file_extension": ".py",
   "mimetype": "text/x-python",
   "name": "python",
   "nbconvert_exporter": "python",
   "pygments_lexer": "ipython3",
   "version": "3.6.2"
  }
 },
 "nbformat": 4,
 "nbformat_minor": 2
}
