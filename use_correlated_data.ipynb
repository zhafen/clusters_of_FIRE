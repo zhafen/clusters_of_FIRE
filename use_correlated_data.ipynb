{
 "cells": [
  {
   "cell_type": "code",
   "execution_count": 1,
   "metadata": {},
   "outputs": [],
   "source": [
    "import h5py"
   ]
  },
  {
   "cell_type": "markdown",
   "metadata": {},
   "source": [
    "# Loading Example"
   ]
  },
  {
   "cell_type": "code",
   "execution_count": 2,
   "metadata": {},
   "outputs": [],
   "source": [
    "filepath = '/scratch/03057/zhafen/linefinder_data/multiphysics/m12i_res7100_mhdcv/data/cosmo_histories_m12imhdcv_clustersofFIRE_pop1.hdf5'"
   ]
  },
  {
   "cell_type": "code",
   "execution_count": 3,
   "metadata": {},
   "outputs": [],
   "source": [
    "f = h5py.File( filepath, 'r' )"
   ]
  },
  {
   "cell_type": "code",
   "execution_count": 4,
   "metadata": {},
   "outputs": [
    {
     "data": {
      "text/plain": [
       "['ClusterMass',\n",
       " 'CurrentAge',\n",
       " 'DynFrictionTime',\n",
       " 'EndRedshift',\n",
       " 'EndSnapshot',\n",
       " 'M_enc',\n",
       " 'R',\n",
       " 'RcIsoPot',\n",
       " 'Rx',\n",
       " 'Ry',\n",
       " 'Rz',\n",
       " 'SigmaV',\n",
       " 'SimulationRedshift',\n",
       " 'SpecificAngularMomentum',\n",
       " 'TracerID',\n",
       " 'Txx',\n",
       " 'Txy',\n",
       " 'Tyy',\n",
       " 'Tyz',\n",
       " 'Tzx',\n",
       " 'Tzz',\n",
       " 'ValidCluster',\n",
       " 'Vx',\n",
       " 'Vy',\n",
       " 'Vz',\n",
       " 'mt_gal_id']"
      ]
     },
     "execution_count": 4,
     "metadata": {},
     "output_type": "execute_result"
    }
   ],
   "source": [
    "list( f.keys() )"
   ]
  },
  {
   "cell_type": "markdown",
   "metadata": {},
   "source": [
    "## File Walk Through"
   ]
  },
  {
   "cell_type": "markdown",
   "metadata": {},
   "source": [
    "### Dimensions"
   ]
  },
  {
   "cell_type": "markdown",
   "metadata": {},
   "source": [
    "The file has arrays that are of the two following shapes:"
   ]
  },
  {
   "cell_type": "code",
   "execution_count": 5,
   "metadata": {},
   "outputs": [
    {
     "data": {
      "text/plain": [
       "((76010,), (76010, 600))"
      ]
     },
     "execution_count": 5,
     "metadata": {},
     "output_type": "execute_result"
    }
   ],
   "source": [
    "f['TracerID'][...].shape, f['R'][...].shape"
   ]
  },
  {
   "cell_type": "markdown",
   "metadata": {},
   "source": [
    "The first dimension corresponds to the cluster index. The clusters are in the exact same order as Mike has them in.\n",
    "\n",
    "The second dimension, when it exists, tracks the history of that parameter over time, with lower indices corresponding to closer to present day.\n",
    "This is easiest seen with the array that tracks the age of the cluster, e.g. here's the age in Gyr of the cluster at index 0, ten snapshots before the end of the simulation:"
   ]
  },
  {
   "cell_type": "code",
   "execution_count": 6,
   "metadata": {},
   "outputs": [
    {
     "data": {
      "text/plain": [
       "11.97015"
      ]
     },
     "execution_count": 6,
     "metadata": {},
     "output_type": "execute_result"
    }
   ],
   "source": [
    "f['CurrentAge'][...][0,9]"
   ]
  },
  {
   "cell_type": "markdown",
   "metadata": {},
   "source": [
    "### Valid Clusters\n",
    "I'm highlighting this array because it contains a boolean that selects what clusters are okay to evolve\n",
    "\n",
    "The conditions:\n",
    "1. Must be in the main halo at z=0 (~90% of clusters fit this criteria)\n",
    "2. Must not be traced by a particle that splits (~99.95% of clusters fit this criteria)"
   ]
  },
  {
   "cell_type": "markdown",
   "metadata": {},
   "source": [
    "### Units and Description Key\n",
    "I'm pretty sure this can be saved in the hdf5 attributes, but I haven't started doing that yet."
   ]
  },
  {
   "cell_type": "code",
   "execution_count": 9,
   "metadata": {},
   "outputs": [],
   "source": [
    "units_key = {\n",
    "    'SimulationRedshift':  'Redshift of the FIRE simulation.',\n",
    "    'ClusterMass': 'Mass of the Cluster in M_sun.',\n",
    "    'CurrentAge': 'Age of the particle at each snapshot in Gyr.',\n",
    "    'DynFrictionTime': 'Dynamical friction time (assuming an isothermal potential) in Gyr.',\n",
    "    'EndRedshift': 'Redshift at which the cluster should stop being evolved.',\n",
    "    'EndSnapshot': 'FIRE simulation snapshot at which the cluster should stop being evolved.',\n",
    "    'M_enc': 'Enclosed mass in M_sun at the radii of the particle. Only valid for particles that follow the main halo.',\n",
    "    'R': 'Radius in kpc from the center of the main halo.',\n",
    "    'RcIsoPot': 'Radius in kpc from the center of the main halo, if the particle was on an circular orbit in an isothermal potential.',\n",
    "    'SigmaV': 'Velocity dispersion interior to the particle in km/s. Only valid for particles that follow the main halo.',\n",
    "    'SpecificAngularMomentum': 'r x v relative to the main halo in km^2/s.',\n",
    "    'TracerID': 'FIRE Simulation Particle ID for the particle that represents the clusters history.',\n",
    "    'Txx': 'Component of the tidal tensor in code units (~1/Gyr).',\n",
    "    'Txy': 'Component of the tidal tensor in code units (~1/Gyr).',\n",
    "    'Tyy': 'Component of the tidal tensor in code units (~1/Gyr).',\n",
    "    'Tyz': 'Component of the tidal tensor in code units (~1/Gyr).',\n",
    "    'Tzx': 'Component of the tidal tensor in code units (~1/Gyr).',\n",
    "    'Tzz': 'Component of the tidal tensor in code units (~1/Gyr).',\n",
    "    'ValidCluster': 'Whether or not this is a cluster we should evolve.',\n",
    "    'Vx': 'Velocity component relative to main halo in km/s.',\n",
    "    'Vy': 'Velocity component relative to main halo in km/s.',\n",
    "    'Vz': 'Velocity component relative to main halo in km/s.',\n",
    "    'Rx': 'X distance to galaxy center in kpc.',\n",
    "    'Ry': 'X distance to galaxy center in kpc.',\n",
    "    'Rz': 'X distance to galaxy center in kpc.',\n",
    "    'mt_gal_id': 'AHF Galaxy ID for the halo this cluster is associated with.'\n",
    "}"
   ]
  },
  {
   "cell_type": "code",
   "execution_count": null,
   "metadata": {},
   "outputs": [],
   "source": []
  }
 ],
 "metadata": {
  "kernelspec": {
   "display_name": "Python 3",
   "language": "python",
   "name": "python3"
  },
  "language_info": {
   "codemirror_mode": {
    "name": "ipython",
    "version": 3
   },
   "file_extension": ".py",
   "mimetype": "text/x-python",
   "name": "python",
   "nbconvert_exporter": "python",
   "pygments_lexer": "ipython3",
   "version": "3.7.1"
  }
 },
 "nbformat": 4,
 "nbformat_minor": 2
}
