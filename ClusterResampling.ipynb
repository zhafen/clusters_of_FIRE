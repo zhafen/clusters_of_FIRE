{
 "cells": [
  {
   "cell_type": "code",
   "execution_count": 1,
   "metadata": {},
   "outputs": [
    {
     "name": "stderr",
     "output_type": "stream",
     "text": [
      "/Users/mgrudic/intelpython3/lib/python3.7/site-packages/IPython/core/pylabtools.py:276: MatplotlibDeprecationWarning: \n",
      "The text.latex.unicode rcparam was deprecated in Matplotlib 3.0 and will be removed in 3.2.\n",
      "  import matplotlib\n"
     ]
    },
    {
     "name": "stdout",
     "output_type": "stream",
     "text": [
      "Using matplotlib backend: TkAgg\n",
      "Populating the interactive namespace from numpy and matplotlib\n"
     ]
    }
   ],
   "source": [
    "%pylab"
   ]
  },
  {
   "cell_type": "code",
   "execution_count": 14,
   "metadata": {},
   "outputs": [],
   "source": [
    "def MedianClusterSize_wrong(M_cluster, M_GMC, R_GMC, metallicity,):\n",
    "     # clusters were sampled from a log-normal distribution about this value, which was wrong because it assumed solar units for metallicity instead of mass fraction\n",
    "    return 3 * (M_GMC/1e6)**(1./5) * (M_cluster/1e4)**(1./3) * (M_GMC / (np.pi*R_GMC**2)/100)**-1. * (metallicity)**.1\n",
    "\n",
    "def MedianClusterSize_right(M_cluster, M_GMC, R_GMC, metallicity,):\n",
    "    # this is the corrected median value that we want for the sample distribution\n",
    "    return 3 * (M_GMC/1e6)**(1./5) * (M_cluster/1e4)**(1./3) * (M_GMC / (np.pi*R_GMC**2)/100)**-1. * (metallicity/0.02)**.1 \n",
    "\n",
    "def NormalDistribution(x, mu, sigma):\n",
    "    return np.exp(-(x-mu)**2 / (2*sigma**2)) / (2*np.pi)**0.5 / sigma\n",
    "\n",
    "def SamplingWeight(M_cluster, r_cluster, metallicity, M_GMC, R_GMC):\n",
    "        \n",
    "    wrong_cluster_median_size = MedianClusterSize_wrong(M_cluster, M_GMC, R_GMC, metallicity) # ratio of sampled cluster size to median cluster size for given cloud properties and cluster mass\n",
    "    right_cluster_median_size = MedianClusterSize_right(M_cluster, M_GMC, R_GMC, metallicity) # corrected value\n",
    "    \n",
    "    delta_eta = np.log10(right_cluster_median_size/wrong_cluster_median_size) # this is the amount that we want to shift the log10 of the cluster size by, on average\n",
    "    \n",
    "    eta = np.log10(r_cluster / wrong_cluster_median_size) # this is the log of the ratio of the cluster size to the (erroneous) median cluster size, which is what \n",
    "    sigma = 0.38 # intrinsic scatter in cluster size in dex, for both the original and correct distributions\n",
    "    \n",
    "    sample_weight = NormalDistribution(eta, delta_eta, sigma)/NormalDistribution(eta, 0., sigma)\n",
    "    return sample_weight\n",
    "\n",
    "    "
   ]
  },
  {
   "cell_type": "code",
   "execution_count": null,
   "metadata": {},
   "outputs": [],
   "source": []
  }
 ],
 "metadata": {
  "kernelspec": {
   "display_name": "Python 3",
   "language": "python",
   "name": "python3"
  },
  "language_info": {
   "codemirror_mode": {
    "name": "ipython",
    "version": 3
   },
   "file_extension": ".py",
   "mimetype": "text/x-python",
   "name": "python",
   "nbconvert_exporter": "python",
   "pygments_lexer": "ipython3",
   "version": "3.7.4"
  }
 },
 "nbformat": 4,
 "nbformat_minor": 4
}
